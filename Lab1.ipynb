{
  "nbformat": 4,
  "nbformat_minor": 0,
  "metadata": {
    "colab": {
      "provenance": [],
      "authorship_tag": "ABX9TyNkb0qE4RXzkgMT7QPAHt9N",
      "include_colab_link": true
    },
    "kernelspec": {
      "name": "python3",
      "display_name": "Python 3"
    },
    "language_info": {
      "name": "python"
    }
  },
  "cells": [
    {
      "cell_type": "markdown",
      "metadata": {
        "id": "view-in-github",
        "colab_type": "text"
      },
      "source": [
        "<a href=\"https://colab.research.google.com/github/neminsheth/Git-For-Geeks2/blob/main/Lab1.ipynb\" target=\"_parent\"><img src=\"https://colab.research.google.com/assets/colab-badge.svg\" alt=\"Open In Colab\"/></a>"
      ]
    },
    {
      "cell_type": "code",
      "execution_count": 2,
      "metadata": {
        "colab": {
          "base_uri": "https://localhost:8080/"
        },
        "id": "fReVApfvyLfR",
        "outputId": "cb6d654e-e9c4-4d33-933f-f825dbfe7e8e"
      },
      "outputs": [
        {
          "output_type": "stream",
          "name": "stdout",
          "text": [
            "Hello World\n"
          ]
        }
      ],
      "source": [
        "print (\"Hello World\")"
      ]
    },
    {
      "cell_type": "code",
      "source": [
        "print ('Hello World')"
      ],
      "metadata": {
        "colab": {
          "base_uri": "https://localhost:8080/"
        },
        "id": "GFOPuIe01QHu",
        "outputId": "504242fd-7f0e-4b74-a98a-faef68bc889f"
      },
      "execution_count": 12,
      "outputs": [
        {
          "output_type": "stream",
          "name": "stdout",
          "text": [
            "Hello World\n"
          ]
        }
      ]
    },
    {
      "cell_type": "code",
      "source": [
        "print (50+10)"
      ],
      "metadata": {
        "colab": {
          "base_uri": "https://localhost:8080/"
        },
        "id": "TUfxDrwJzBha",
        "outputId": "d2f07a0d-69ea-43ab-8f8e-49e4d6dadfe7"
      },
      "execution_count": 3,
      "outputs": [
        {
          "output_type": "stream",
          "name": "stdout",
          "text": [
            "60\n"
          ]
        }
      ]
    },
    {
      "cell_type": "code",
      "source": [
        "a=100\n",
        "b=200\n",
        "c=300\n",
        "d=a+b+c\n",
        "print(\"The Sum\", d)\n",
        "#print(\"The Sum\",d )"
      ],
      "metadata": {
        "colab": {
          "base_uri": "https://localhost:8080/"
        },
        "id": "Yt3JHfw_zzwL",
        "outputId": "52d8bea1-802f-4d23-fd8e-cbe4c32ef577"
      },
      "execution_count": 11,
      "outputs": [
        {
          "output_type": "stream",
          "name": "stdout",
          "text": [
            "The Sum 600\n"
          ]
        }
      ]
    },
    {
      "cell_type": "code",
      "source": [
        "if 5>2:\n",
        "  print(\"5 is greater than 2\")"
      ],
      "metadata": {
        "id": "Wm_kPpeN1hNQ"
      },
      "execution_count": null,
      "outputs": []
    },
    {
      "cell_type": "code",
      "source": [
        "a=123\n",
        "b=456\n",
        "c=a+b\n",
        "print(c)"
      ],
      "metadata": {
        "colab": {
          "base_uri": "https://localhost:8080/"
        },
        "id": "mItQL8z-3rCh",
        "outputId": "0a9efdf4-1492-4a22-c4c7-997cb4cf838d"
      },
      "execution_count": 20,
      "outputs": [
        {
          "output_type": "stream",
          "name": "stdout",
          "text": [
            "579\n"
          ]
        }
      ]
    },
    {
      "cell_type": "code",
      "source": [
        "x1=5\n",
        "y1=5\n",
        "x2= \"Hello\"\n",
        "y2= \"Hello\"\n",
        "x3=[1,2,3]\n",
        "y3=[1,2,3]\n",
        "print(x1 is not y1)\n",
        "print(x2 is y2)\n",
        "print(x3 is y3)\n",
        "\n",
        "id(x1)\n"
      ],
      "metadata": {
        "colab": {
          "base_uri": "https://localhost:8080/"
        },
        "id": "nU6V1yVc6tm5",
        "outputId": "b2dbaeb6-9dca-4364-ab8d-e33258b38cdb"
      },
      "execution_count": 30,
      "outputs": [
        {
          "output_type": "stream",
          "name": "stdout",
          "text": [
            "True\n",
            "True\n",
            "False\n"
          ]
        },
        {
          "output_type": "execute_result",
          "data": {
            "text/plain": [
              "9793248"
            ]
          },
          "metadata": {},
          "execution_count": 30
        }
      ]
    },
    {
      "cell_type": "code",
      "source": [
        "a=int(input(\"Enter first number\"))\n",
        "b=int(input(\"Enter second number \"))\n",
        "if a<b:\n",
        "  print(\"First number is greater\")\n",
        "else:\n",
        "  print(\"Second number is greater\")\n",
        "print(a+b)"
      ],
      "metadata": {
        "colab": {
          "base_uri": "https://localhost:8080/"
        },
        "id": "1GJa9LdK84wO",
        "outputId": "0f78cbd0-68bc-43d5-b789-be664477fed9"
      },
      "execution_count": 36,
      "outputs": [
        {
          "output_type": "stream",
          "name": "stdout",
          "text": [
            "Enter first number30\n",
            "Enter second number 10\n",
            "Second number is greater\n",
            "40\n"
          ]
        }
      ]
    },
    {
      "cell_type": "code",
      "source": [],
      "metadata": {
        "id": "Fbl31kwa9lB8"
      },
      "execution_count": null,
      "outputs": []
    }
  ]
}